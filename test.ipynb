{
 "cells": [
  {
   "cell_type": "code",
   "execution_count": 1,
   "metadata": {},
   "outputs": [
    {
     "name": "stdout",
     "output_type": "stream",
     "text": [
      "sym: > EMRTLTest_1.0.1 -> ../../../tl/EMRTLTest/1.0.1 2006-04-18 erichard\n",
      "['>', 'EMRTLTest_1.0.1', '2006-04-18', 'erichard']\n",
      "> EMRTLTest_1.0.1 2006-04-18 erichard\n"
     ]
    }
   ],
   "source": [
    "diff = \"\"\"-----[ added ]-----\n",
    "> EMRTLTest_1.0.1 -> ../../../tl/EMRTLTest/1.0.1 2006-04-18 erichard\"\"\"\n",
    "\n",
    "for line in diff.split('\\n'):\n",
    "    sym = line.find(' -> ')\n",
    "    if sym >= 0:\n",
    "        print(f\"sym: {line}\")\n",
    "        sym_split = line.split(\" \")\n",
    "        print(sym_split[:2] + sym_split[-2:])\n",
    "        sym_split = sym_split[:2] + sym_split[-2:]\n",
    "        print(' '.join(sym_split))"
   ]
  },
  {
   "cell_type": "code",
   "execution_count": 2,
   "metadata": {},
   "outputs": [
    {
     "name": "stdout",
     "output_type": "stream",
     "text": [
      "Not True False\n",
      "False: False\n"
     ]
    }
   ],
   "source": [
    "sym_link = False\n",
    "if not sym_link:\n",
    "    print(f\"Not True {sym_link}\")\n",
    "\n",
    "if sym_link == False:\n",
    "    print(f\"False: {sym_link}\")"
   ]
  }
 ],
 "metadata": {
  "kernelspec": {
   "display_name": "Python 3",
   "language": "python",
   "name": "python3"
  },
  "language_info": {
   "codemirror_mode": {
    "name": "ipython",
    "version": 3
   },
   "file_extension": ".py",
   "mimetype": "text/x-python",
   "name": "python",
   "nbconvert_exporter": "python",
   "pygments_lexer": "ipython3",
   "version": "3.11.4"
  },
  "orig_nbformat": 4
 },
 "nbformat": 4,
 "nbformat_minor": 2
}
